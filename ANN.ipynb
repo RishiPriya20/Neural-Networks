{
 "cells": [
  {
   "cell_type": "markdown",
   "id": "fe821e4a-38cf-4592-acb3-54c8dda97418",
   "metadata": {},
   "source": [
    "**Artificial Neural Networks**"
   ]
  },
  {
   "cell_type": "markdown",
   "id": "ab804765-e768-4436-a01c-3b22d182c108",
   "metadata": {},
   "source": [
    "**Classification Using Artificial Neural Networks with Hyperparameter Tuning on Alphabets Data**"
   ]
  },
  {
   "cell_type": "markdown",
   "id": "a087c3c8-73f1-48b5-b388-bedd104ee553",
   "metadata": {},
   "source": [
    "**Overview:**\r\n",
    "In this assignment, you will be tasked with developing a classification model using Artificial Neural Networks (ANNs) to classify data points from the \"Alphabets_data.csv\" dataset into predefined categories of alphabets. This exercise aims to deepen your understanding of ANNs and the significant role hyperparameter tuning plays in enhancing model performance.\r\n"
   ]
  },
  {
   "cell_type": "code",
   "execution_count": 11,
   "id": "0b5f0d5e-f900-49c1-ba23-02f179c0382c",
   "metadata": {},
   "outputs": [
    {
     "name": "stdout",
     "output_type": "stream",
     "text": [
      "      letter  xbox  ybox  width  height  onpix  xbar  ybar  x2bar  y2bar  \\\n",
      "0          T     2     8      3       5      1     8    13      0      6   \n",
      "1          I     5    12      3       7      2    10     5      5      4   \n",
      "2          D     4    11      6       8      6    10     6      2      6   \n",
      "3          N     7    11      6       6      3     5     9      4      6   \n",
      "4          G     2     1      3       1      1     8     6      6      6   \n",
      "...      ...   ...   ...    ...     ...    ...   ...   ...    ...    ...   \n",
      "19995      D     2     2      3       3      2     7     7      7      6   \n",
      "19996      C     7    10      8       8      4     4     8      6      9   \n",
      "19997      T     6     9      6       7      5     6    11      3      7   \n",
      "19998      S     2     3      4       2      1     8     7      2      6   \n",
      "19999      A     4     9      6       6      2     9     5      3      1   \n",
      "\n",
      "       xybar  x2ybar  xy2bar  xedge  xedgey  yedge  yedgex  \n",
      "0          6      10       8      0       8      0       8  \n",
      "1         13       3       9      2       8      4      10  \n",
      "2         10       3       7      3       7      3       9  \n",
      "3          4       4      10      6      10      2       8  \n",
      "4          6       5       9      1       7      5      10  \n",
      "...      ...     ...     ...    ...     ...    ...     ...  \n",
      "19995      6       6       4      2       8      3       7  \n",
      "19996     12       9      13      2       9      3       7  \n",
      "19997     11       9       5      2      12      2       4  \n",
      "19998     10       6       8      1       9      5       8  \n",
      "19999      8       1       8      2       7      2       8  \n",
      "\n",
      "[20000 rows x 17 columns]\n"
     ]
    }
   ],
   "source": [
    "import pandas as pd\n",
    "import matplotlib.pyplot as plt\n",
    "import numpy as np\n",
    "import seaborn as sns\n",
    "\n",
    "data = pd.read_csv('C:\\\\Users\\\\rishi\\\\OneDrive\\\\Desktop\\\\DS Assigments\\\\Alphabets_data.csv')\n",
    "print(data)"
   ]
  },
  {
   "cell_type": "code",
   "execution_count": 12,
   "id": "ced382e7-c5a8-4cf4-84dd-e90b25a7ce60",
   "metadata": {},
   "outputs": [
    {
     "name": "stdout",
     "output_type": "stream",
     "text": [
      "  letter  xbox  ybox  width  height  onpix  xbar  ybar  x2bar  y2bar  xybar  \\\n",
      "0      T     2     8      3       5      1     8    13      0      6      6   \n",
      "1      I     5    12      3       7      2    10     5      5      4     13   \n",
      "2      D     4    11      6       8      6    10     6      2      6     10   \n",
      "3      N     7    11      6       6      3     5     9      4      6      4   \n",
      "4      G     2     1      3       1      1     8     6      6      6      6   \n",
      "\n",
      "   x2ybar  xy2bar  xedge  xedgey  yedge  yedgex  \n",
      "0      10       8      0       8      0       8  \n",
      "1       3       9      2       8      4      10  \n",
      "2       3       7      3       7      3       9  \n",
      "3       4      10      6      10      2       8  \n",
      "4       5       9      1       7      5      10  \n"
     ]
    }
   ],
   "source": [
    "print(data.head())"
   ]
  },
  {
   "cell_type": "code",
   "execution_count": 13,
   "id": "c86c341e-29d2-4ec8-a55c-a18daa428a98",
   "metadata": {},
   "outputs": [
    {
     "name": "stdout",
     "output_type": "stream",
     "text": [
      "<class 'pandas.core.frame.DataFrame'>\n",
      "RangeIndex: 20000 entries, 0 to 19999\n",
      "Data columns (total 17 columns):\n",
      " #   Column  Non-Null Count  Dtype \n",
      "---  ------  --------------  ----- \n",
      " 0   letter  20000 non-null  object\n",
      " 1   xbox    20000 non-null  int64 \n",
      " 2   ybox    20000 non-null  int64 \n",
      " 3   width   20000 non-null  int64 \n",
      " 4   height  20000 non-null  int64 \n",
      " 5   onpix   20000 non-null  int64 \n",
      " 6   xbar    20000 non-null  int64 \n",
      " 7   ybar    20000 non-null  int64 \n",
      " 8   x2bar   20000 non-null  int64 \n",
      " 9   y2bar   20000 non-null  int64 \n",
      " 10  xybar   20000 non-null  int64 \n",
      " 11  x2ybar  20000 non-null  int64 \n",
      " 12  xy2bar  20000 non-null  int64 \n",
      " 13  xedge   20000 non-null  int64 \n",
      " 14  xedgey  20000 non-null  int64 \n",
      " 15  yedge   20000 non-null  int64 \n",
      " 16  yedgex  20000 non-null  int64 \n",
      "dtypes: int64(16), object(1)\n",
      "memory usage: 2.6+ MB\n",
      "None\n"
     ]
    }
   ],
   "source": [
    "print(data.info())"
   ]
  },
  {
   "cell_type": "code",
   "execution_count": 14,
   "id": "e136063c-84b8-4bab-a491-608e9a3a0839",
   "metadata": {},
   "outputs": [
    {
     "name": "stdout",
     "output_type": "stream",
     "text": [
      "               xbox          ybox         width       height         onpix  \\\n",
      "count  20000.000000  20000.000000  20000.000000  20000.00000  20000.000000   \n",
      "mean       4.023550      7.035500      5.121850      5.37245      3.505850   \n",
      "std        1.913212      3.304555      2.014573      2.26139      2.190458   \n",
      "min        0.000000      0.000000      0.000000      0.00000      0.000000   \n",
      "25%        3.000000      5.000000      4.000000      4.00000      2.000000   \n",
      "50%        4.000000      7.000000      5.000000      6.00000      3.000000   \n",
      "75%        5.000000      9.000000      6.000000      7.00000      5.000000   \n",
      "max       15.000000     15.000000     15.000000     15.00000     15.000000   \n",
      "\n",
      "               xbar          ybar         x2bar         y2bar         xybar  \\\n",
      "count  20000.000000  20000.000000  20000.000000  20000.000000  20000.000000   \n",
      "mean       6.897600      7.500450      4.628600      5.178650      8.282050   \n",
      "std        2.026035      2.325354      2.699968      2.380823      2.488475   \n",
      "min        0.000000      0.000000      0.000000      0.000000      0.000000   \n",
      "25%        6.000000      6.000000      3.000000      4.000000      7.000000   \n",
      "50%        7.000000      7.000000      4.000000      5.000000      8.000000   \n",
      "75%        8.000000      9.000000      6.000000      7.000000     10.000000   \n",
      "max       15.000000     15.000000     15.000000     15.000000     15.000000   \n",
      "\n",
      "            x2ybar        xy2bar         xedge        xedgey         yedge  \\\n",
      "count  20000.00000  20000.000000  20000.000000  20000.000000  20000.000000   \n",
      "mean       6.45400      7.929000      3.046100      8.338850      3.691750   \n",
      "std        2.63107      2.080619      2.332541      1.546722      2.567073   \n",
      "min        0.00000      0.000000      0.000000      0.000000      0.000000   \n",
      "25%        5.00000      7.000000      1.000000      8.000000      2.000000   \n",
      "50%        6.00000      8.000000      3.000000      8.000000      3.000000   \n",
      "75%        8.00000      9.000000      4.000000      9.000000      5.000000   \n",
      "max       15.00000     15.000000     15.000000     15.000000     15.000000   \n",
      "\n",
      "            yedgex  \n",
      "count  20000.00000  \n",
      "mean       7.80120  \n",
      "std        1.61747  \n",
      "min        0.00000  \n",
      "25%        7.00000  \n",
      "50%        8.00000  \n",
      "75%        9.00000  \n",
      "max       15.00000  \n"
     ]
    }
   ],
   "source": [
    "print(data.describe())"
   ]
  },
  {
   "cell_type": "code",
   "execution_count": 15,
   "id": "d30fe23d-147a-48a9-a20b-936e05ff4b5d",
   "metadata": {},
   "outputs": [
    {
     "name": "stdout",
     "output_type": "stream",
     "text": [
      "letter    0\n",
      "xbox      0\n",
      "ybox      0\n",
      "width     0\n",
      "height    0\n",
      "onpix     0\n",
      "xbar      0\n",
      "ybar      0\n",
      "x2bar     0\n",
      "y2bar     0\n",
      "xybar     0\n",
      "x2ybar    0\n",
      "xy2bar    0\n",
      "xedge     0\n",
      "xedgey    0\n",
      "yedge     0\n",
      "yedgex    0\n",
      "dtype: int64\n"
     ]
    }
   ],
   "source": [
    "print(data.isnull().sum())"
   ]
  },
  {
   "cell_type": "code",
   "execution_count": 16,
   "id": "d0d3e1cc-66fa-4302-9e8e-3fc652bcd0d9",
   "metadata": {},
   "outputs": [
    {
     "name": "stdout",
     "output_type": "stream",
     "text": [
      "U    813\n",
      "D    805\n",
      "P    803\n",
      "T    796\n",
      "M    792\n",
      "A    789\n",
      "X    787\n",
      "Y    786\n",
      "N    783\n",
      "Q    783\n",
      "F    775\n",
      "G    773\n",
      "E    768\n",
      "B    766\n",
      "V    764\n",
      "L    761\n",
      "R    758\n",
      "I    755\n",
      "O    753\n",
      "W    752\n",
      "S    748\n",
      "J    747\n",
      "K    739\n",
      "C    736\n",
      "H    734\n",
      "Z    734\n",
      "Name: letter, dtype: int64\n"
     ]
    }
   ],
   "source": [
    "print(data['letter'].value_counts())"
   ]
  },
  {
   "cell_type": "markdown",
   "id": "ab1f76b9-5cca-43da-93c8-9a5d61e674de",
   "metadata": {},
   "source": [
    "**Data Visuvalization**"
   ]
  },
  {
   "cell_type": "code",
   "execution_count": 20,
   "id": "58dea7f2-a34e-4275-9e4c-04d03fe2e3ac",
   "metadata": {},
   "outputs": [
    {
     "data": {
      "image/png": "[encoded data removed]",
      "text/plain": [
       "<Figure size 800x600 with 1 Axes>"
      ]
     },
     "metadata": {},
     "output_type": "display_data"
    }
   ],
   "source": [
    "import matplotlib.pyplot as plt\n",
    "import seaborn as sns\n",
    "\n",
    "plt.figure(figsize=(8,6))\n",
    "sns.countplot(x='letter', data=df ,palette='viridis')\n",
    "plt.title(\"Distribution of Alphabet Classes\")\n",
    "plt.xlabel(\"Alphabet\")\n",
    "plt.show()"
   ]
  },
  {
   "cell_type": "code",
   "execution_count": 21,
   "id": "dccf4d47-7e41-42f0-be28-73792634dc3d",
   "metadata": {},
   "outputs": [
    {
     "name": "stderr",
     "output_type": "stream",
     "text": [
      "C:\\Users\\rishi\\AppData\\Local\\Temp\\ipykernel_22796\\3577951329.py:2: FutureWarning: The default value of numeric_only in DataFrame.corr is deprecated. In a future version, it will default to False. Select only valid columns or specify the value of numeric_only to silence this warning.\n",
      "  sns.heatmap(data.corr(), annot=True, cmap='coolwarm', fmt='.2f')\n"
     ]
    },
    {
     "data": {
      "image/png": "[encoded data removed]",
      "text/plain": [
       "<Figure size 1000x800 with 2 Axes>"
      ]
     },
     "metadata": {},
     "output_type": "display_data"
    }
   ],
   "source": [
    "plt.figure(figsize=(10,8))\n",
    "sns.heatmap(data.corr(), annot=True, cmap='coolwarm', fmt='.2f')\n",
    "plt.title(\"Correlation Heatmap\")\n",
    "plt.show()"
   ]
  },
  {
   "cell_type": "markdown",
   "id": "3eef5c79-065f-42a5-9eff-0e7b0fd8f7e9",
   "metadata": {},
   "source": [
    "**Data Preprocessing**"
   ]
  },
  {
   "cell_type": "code",
   "execution_count": 22,
   "id": "990a3e4b-0f0f-43d3-8e73-998fe12084f0",
   "metadata": {},
   "outputs": [
    {
     "name": "stdout",
     "output_type": "stream",
     "text": [
      "Training set shape: (16000, 16), Test set shape: (4000, 16)\n"
     ]
    }
   ],
   "source": [
    "from sklearn.model_selection import train_test_split\n",
    "from sklearn.preprocessing import StandardScaler\n",
    "from sklearn.preprocessing import LabelEncoder\n",
    "import numpy as np\n",
    "\n",
    "le=LabelEncoder()\n",
    "df['letter'] = le.fit_transform(df['letter'])\n",
    "\n",
    "X=data.drop('letter', axis=1)\n",
    "y=data['letter']\n",
    "\n",
    "scaler = StandardScaler()\n",
    "X_scaled = scaler.fit_transform(X)\n",
    "\n",
    "X_train, X_test, y_train, y_test = train_test_split(X_scaled, y, test_size=0.2, random_state=42)\n",
    "\n",
    "print(f'Training set shape: {X_train.shape}, Test set shape: {X_test.shape}')"
   ]
  },
  {
   "cell_type": "markdown",
   "id": "719c4259-ebfc-4414-98ce-70c2d4d71dfa",
   "metadata": {},
   "source": [
    "The labelEncoder was applied to the target variable to convert the categorical values into numerical values making them suitable for ML algorithms.\n",
    "\n",
    "the feature matrix X was created by dropping the target variable(letter) from the dataset and y was defined as the encoded target variable.\n",
    "\n",
    "The StandardScaler was used to standardize the features in X transforming them to have a mean of 0 and a standard deviation of 1 This scaling process helps improve the performance of Ml models mostly for particularly for algorithms that are sensitive to feature scales.\n",
    "The dataset was split into the training set and a test set using the train_test_split function. The random_state parameter was set to check the results are reproducible. the training set has a shape of (X_train.shape) and the test set has a shape (X_test.shape)"
   ]
  },
  {
   "cell_type": "markdown",
   "id": "b3f819b2-7ffd-4d48-97cd-758d6449ede1",
   "metadata": {},
   "source": [
    "**Model Implementation**"
   ]
  },
  {
   "cell_type": "code",
   "execution_count": 9,
   "id": "91263430-cec2-43b3-92fd-632e90fd3008",
   "metadata": {},
   "outputs": [
    {
     "name": "stdout",
     "output_type": "stream",
     "text": [
      "Epoch 1/10\n"
     ]
    },
    {
     "name": "stderr",
     "output_type": "stream",
     "text": [
      "C:\\Users\\rishi\\AppData\\Roaming\\Python\\Python311\\site-packages\\keras\\src\\layers\\core\\dense.py:87: UserWarning: Do not pass an `input_shape`/`input_dim` argument to a layer. When using Sequential models, prefer using an `Input(shape)` object as the first layer in the model instead.\n",
      "  super().__init__(activity_regularizer=activity_regularizer, **kwargs)\n"
     ]
    },
    {
     "name": "stdout",
     "output_type": "stream",
     "text": [
      "\u001b[1m500/500\u001b[0m \u001b[32m━━━━━━━━━━━━━━━━━━━━\u001b[0m\u001b[37m\u001b[0m \u001b[1m2s\u001b[0m 2ms/step - accuracy: 0.3320 - loss: 2.4846 - val_accuracy: 0.6848 - val_loss: 1.2212\n",
      "Epoch 2/10\n",
      "\u001b[1m500/500\u001b[0m \u001b[32m━━━━━━━━━━━━━━━━━━━━\u001b[0m\u001b[37m\u001b[0m \u001b[1m1s\u001b[0m 1ms/step - accuracy: 0.7058 - loss: 1.1138 - val_accuracy: 0.7617 - val_loss: 0.8797\n",
      "Epoch 3/10\n",
      "\u001b[1m500/500\u001b[0m \u001b[32m━━━━━━━━━━━━━━━━━━━━\u001b[0m\u001b[37m\u001b[0m \u001b[1m1s\u001b[0m 1ms/step - accuracy: 0.7714 - loss: 0.8360 - val_accuracy: 0.8012 - val_loss: 0.7313\n",
      "Epoch 4/10\n",
      "\u001b[1m500/500\u001b[0m \u001b[32m━━━━━━━━━━━━━━━━━━━━\u001b[0m\u001b[37m\u001b[0m \u001b[1m1s\u001b[0m 1ms/step - accuracy: 0.8064 - loss: 0.7024 - val_accuracy: 0.8245 - val_loss: 0.6408\n",
      "Epoch 5/10\n",
      "\u001b[1m500/500\u001b[0m \u001b[32m━━━━━━━━━━━━━━━━━━━━\u001b[0m\u001b[37m\u001b[0m \u001b[1m1s\u001b[0m 1ms/step - accuracy: 0.8272 - loss: 0.6145 - val_accuracy: 0.8393 - val_loss: 0.5802\n",
      "Epoch 6/10\n",
      "\u001b[1m500/500\u001b[0m \u001b[32m━━━━━━━━━━━━━━━━━━━━\u001b[0m\u001b[37m\u001b[0m \u001b[1m1s\u001b[0m 1ms/step - accuracy: 0.8397 - loss: 0.5582 - val_accuracy: 0.8530 - val_loss: 0.5279\n",
      "Epoch 7/10\n",
      "\u001b[1m500/500\u001b[0m \u001b[32m━━━━━━━━━━━━━━━━━━━━\u001b[0m\u001b[37m\u001b[0m \u001b[1m1s\u001b[0m 1ms/step - accuracy: 0.8555 - loss: 0.5083 - val_accuracy: 0.8587 - val_loss: 0.4920\n",
      "Epoch 8/10\n",
      "\u001b[1m500/500\u001b[0m \u001b[32m━━━━━━━━━━━━━━━━━━━━\u001b[0m\u001b[37m\u001b[0m \u001b[1m1s\u001b[0m 1ms/step - accuracy: 0.8712 - loss: 0.4568 - val_accuracy: 0.8665 - val_loss: 0.4568\n",
      "Epoch 9/10\n",
      "\u001b[1m500/500\u001b[0m \u001b[32m━━━━━━━━━━━━━━━━━━━━\u001b[0m\u001b[37m\u001b[0m \u001b[1m1s\u001b[0m 1ms/step - accuracy: 0.8753 - loss: 0.4358 - val_accuracy: 0.8710 - val_loss: 0.4332\n",
      "Epoch 10/10\n",
      "\u001b[1m500/500\u001b[0m \u001b[32m━━━━━━━━━━━━━━━━━━━━\u001b[0m\u001b[37m\u001b[0m \u001b[1m1s\u001b[0m 1ms/step - accuracy: 0.8808 - loss: 0.4158 - val_accuracy: 0.8825 - val_loss: 0.4065\n",
      "\u001b[1m125/125\u001b[0m \u001b[32m━━━━━━━━━━━━━━━━━━━━\u001b[0m\u001b[37m\u001b[0m \u001b[1m0s\u001b[0m 1ms/step - accuracy: 0.8830 - loss: 0.3991\n",
      "Default Model Accuracy: 0.8824999928474426\n"
     ]
    }
   ],
   "source": [
    "import tensorflow as tf\n",
    "from tensorflow.keras.models import Sequential\n",
    "from tensorflow.keras.layers import Dense\n",
    "\n",
    "def create_default_model():\n",
    "    model = Sequential()\n",
    "    model.add(Dense(64, input_dim=X_train.shape[1], activation='relu'))\n",
    "    model.add(Dense(26, activation='softmax'))\n",
    "\n",
    "    model.compile(loss='sparse_categorical_crossentropy', optimizer='adam', metrics=['accuracy'])\n",
    "    return model\n",
    "default_model = create_default_model()\n",
    "history_default = default_model.fit(X_train, y_train, epochs=10, batch_size=32, validation_data=(X_test, y_test), verbose=1)\n",
    "default_loss, default_accuracy = default_model.evaluate(X_test, y_test, verbose=1)\n",
    "print(f\"Default Model Accuracy: {default_accuracy}\")"
   ]
  },
  {
   "cell_type": "markdown",
   "id": "a68f858b-5997-4dd9-a8b3-aebb6916f0ef",
   "metadata": {},
   "source": [
    "In this, a default neural network model is created using TensorFlow's Keras API.\n",
    "The first layer is the dense layer with 64 neurons and a ReLU activation function. the input dimension is determined by the number of features in the training dataset.\n",
    "The output layer has 26 neurons with a softmax activation function which is used for multi-class classification.\n",
    "The model is compiled with Adam optimizer which is an efficient optimization algorithm commonly used in training neural networks.\n",
    "The loss function used is sparse_categorical_crossentropy suitable for multi-class classification problems where the target labels are integers.\n",
    "The performance metric used for evaluation is accuracy which tracks the proportion of correctly classified instances.\n",
    "The model is trained using training dataset(X_train,y_train) for 10 epochs with a batch size of 32\n",
    "During training the performance is validated using the test dataset to monitor the model's accuracy and loss after each epoch.\n",
    "After training the model's accuracy is evaluated on the test data. The final accuracy of the model is printed using the evaluation method."
   ]
  },
  {
   "cell_type": "markdown",
   "id": "401ed17f-9685-46ac-8503-eac0730587d1",
   "metadata": {},
   "source": [
    "**Hyperparameter Tuning**"
   ]
  },
  {
   "cell_type": "code",
   "execution_count": 12,
   "id": "be87285a-3000-433d-be1b-6a010dba22d4",
   "metadata": {},
   "outputs": [
    {
     "name": "stdout",
     "output_type": "stream",
     "text": [
      "Epoch 1/50\n",
      "\u001b[1m500/500\u001b[0m \u001b[32m━━━━━━━━━━━━━━━━━━━━\u001b[0m\u001b[37m\u001b[0m \u001b[1m2s\u001b[0m 2ms/step - accuracy: 0.3160 - loss: 2.5379 - val_accuracy: 0.6747 - val_loss: 1.3958\n",
      "Epoch 2/50\n",
      "\u001b[1m500/500\u001b[0m \u001b[32m━━━━━━━━━━━━━━━━━━━━\u001b[0m\u001b[37m\u001b[0m \u001b[1m1s\u001b[0m 1ms/step - accuracy: 0.6893 - loss: 1.2828 - val_accuracy: 0.7423 - val_loss: 1.0676\n",
      "Epoch 3/50\n",
      "\u001b[1m500/500\u001b[0m \u001b[32m━━━━━━━━━━━━━━━━━━━━\u001b[0m\u001b[37m\u001b[0m \u001b[1m1s\u001b[0m 1ms/step - accuracy: 0.7340 - loss: 1.0496 - val_accuracy: 0.7738 - val_loss: 0.9361\n",
      "Epoch 4/50\n",
      "\u001b[1m500/500\u001b[0m \u001b[32m━━━━━━━━━━━━━━━━━━━━\u001b[0m\u001b[37m\u001b[0m \u001b[1m1s\u001b[0m 1ms/step - accuracy: 0.7609 - loss: 0.9266 - val_accuracy: 0.7837 - val_loss: 0.8651\n",
      "Epoch 5/50\n",
      "\u001b[1m500/500\u001b[0m \u001b[32m━━━━━━━━━━━━━━━━━━━━\u001b[0m\u001b[37m\u001b[0m \u001b[1m1s\u001b[0m 1ms/step - accuracy: 0.7740 - loss: 0.8756 - val_accuracy: 0.7890 - val_loss: 0.8092\n",
      "Epoch 6/50\n",
      "\u001b[1m500/500\u001b[0m \u001b[32m━━━━━━━━━━━━━━━━━━━━\u001b[0m\u001b[37m\u001b[0m \u001b[1m1s\u001b[0m 2ms/step - accuracy: 0.7897 - loss: 0.7904 - val_accuracy: 0.8018 - val_loss: 0.7668\n",
      "Epoch 7/50\n",
      "\u001b[1m500/500\u001b[0m \u001b[32m━━━━━━━━━━━━━━━━━━━━\u001b[0m\u001b[37m\u001b[0m \u001b[1m1s\u001b[0m 1ms/step - accuracy: 0.7934 - loss: 0.7741 - val_accuracy: 0.8087 - val_loss: 0.7308\n",
      "Epoch 8/50\n",
      "\u001b[1m500/500\u001b[0m \u001b[32m━━━━━━━━━━━━━━━━━━━━\u001b[0m\u001b[37m\u001b[0m \u001b[1m1s\u001b[0m 1ms/step - accuracy: 0.8086 - loss: 0.7140 - val_accuracy: 0.8133 - val_loss: 0.7020\n",
      "Epoch 9/50\n",
      "\u001b[1m500/500\u001b[0m \u001b[32m━━━━━━━━━━━━━━━━━━━━\u001b[0m\u001b[37m\u001b[0m \u001b[1m1s\u001b[0m 1ms/step - accuracy: 0.8136 - loss: 0.6896 - val_accuracy: 0.8230 - val_loss: 0.6670\n",
      "Epoch 10/50\n",
      "\u001b[1m500/500\u001b[0m \u001b[32m━━━━━━━━━━━━━━━━━━━━\u001b[0m\u001b[37m\u001b[0m \u001b[1m1s\u001b[0m 1ms/step - accuracy: 0.8158 - loss: 0.6644 - val_accuracy: 0.8255 - val_loss: 0.6404\n",
      "Epoch 11/50\n",
      "\u001b[1m500/500\u001b[0m \u001b[32m━━━━━━━━━━━━━━━━━━━━\u001b[0m\u001b[37m\u001b[0m \u001b[1m1s\u001b[0m 1ms/step - accuracy: 0.8306 - loss: 0.6284 - val_accuracy: 0.8370 - val_loss: 0.6087\n",
      "Epoch 12/50\n",
      "\u001b[1m500/500\u001b[0m \u001b[32m━━━━━━━━━━━━━━━━━━━━\u001b[0m\u001b[37m\u001b[0m \u001b[1m1s\u001b[0m 1ms/step - accuracy: 0.8365 - loss: 0.5922 - val_accuracy: 0.8388 - val_loss: 0.5845\n",
      "Epoch 13/50\n",
      "\u001b[1m500/500\u001b[0m \u001b[32m━━━━━━━━━━━━━━━━━━━━\u001b[0m\u001b[37m\u001b[0m \u001b[1m1s\u001b[0m 2ms/step - accuracy: 0.8491 - loss: 0.5591 - val_accuracy: 0.8510 - val_loss: 0.5560\n",
      "Epoch 14/50\n",
      "\u001b[1m500/500\u001b[0m \u001b[32m━━━━━━━━━━━━━━━━━━━━\u001b[0m\u001b[37m\u001b[0m \u001b[1m1s\u001b[0m 2ms/step - accuracy: 0.8527 - loss: 0.5421 - val_accuracy: 0.8515 - val_loss: 0.5345\n",
      "Epoch 15/50\n",
      "\u001b[1m500/500\u001b[0m \u001b[32m━━━━━━━━━━━━━━━━━━━━\u001b[0m\u001b[37m\u001b[0m \u001b[1m1s\u001b[0m 1ms/step - accuracy: 0.8590 - loss: 0.5112 - val_accuracy: 0.8615 - val_loss: 0.5133\n",
      "Epoch 16/50\n",
      "\u001b[1m500/500\u001b[0m \u001b[32m━━━━━━━━━━━━━━━━━━━━\u001b[0m\u001b[37m\u001b[0m \u001b[1m1s\u001b[0m 1ms/step - accuracy: 0.8640 - loss: 0.4995 - val_accuracy: 0.8640 - val_loss: 0.4917\n",
      "Epoch 17/50\n",
      "\u001b[1m500/500\u001b[0m \u001b[32m━━━━━━━━━━━━━━━━━━━━\u001b[0m\u001b[37m\u001b[0m \u001b[1m1s\u001b[0m 1ms/step - accuracy: 0.8701 - loss: 0.4755 - val_accuracy: 0.8710 - val_loss: 0.4713\n",
      "Epoch 18/50\n",
      "\u001b[1m500/500\u001b[0m \u001b[32m━━━━━━━━━━━━━━━━━━━━\u001b[0m\u001b[37m\u001b[0m \u001b[1m1s\u001b[0m 1ms/step - accuracy: 0.8762 - loss: 0.4531 - val_accuracy: 0.8770 - val_loss: 0.4532\n",
      "Epoch 19/50\n",
      "\u001b[1m500/500\u001b[0m \u001b[32m━━━━━━━━━━━━━━━━━━━━\u001b[0m\u001b[37m\u001b[0m \u001b[1m1s\u001b[0m 1ms/step - accuracy: 0.8836 - loss: 0.4306 - val_accuracy: 0.8808 - val_loss: 0.4320\n",
      "Epoch 20/50\n",
      "\u001b[1m500/500\u001b[0m \u001b[32m━━━━━━━━━━━━━━━━━━━━\u001b[0m\u001b[37m\u001b[0m \u001b[1m1s\u001b[0m 1ms/step - accuracy: 0.8877 - loss: 0.4101 - val_accuracy: 0.8852 - val_loss: 0.4190\n",
      "Epoch 21/50\n",
      "\u001b[1m500/500\u001b[0m \u001b[32m━━━━━━━━━━━━━━━━━━━━\u001b[0m\u001b[37m\u001b[0m \u001b[1m1s\u001b[0m 1ms/step - accuracy: 0.8945 - loss: 0.3932 - val_accuracy: 0.8905 - val_loss: 0.4023\n",
      "Epoch 22/50\n",
      "\u001b[1m500/500\u001b[0m \u001b[32m━━━━━━━━━━━━━━━━━━━━\u001b[0m\u001b[37m\u001b[0m \u001b[1m1s\u001b[0m 1ms/step - accuracy: 0.8931 - loss: 0.3895 - val_accuracy: 0.8975 - val_loss: 0.3875\n",
      "Epoch 23/50\n",
      "\u001b[1m500/500\u001b[0m \u001b[32m━━━━━━━━━━━━━━━━━━━━\u001b[0m\u001b[37m\u001b[0m \u001b[1m1s\u001b[0m 2ms/step - accuracy: 0.8960 - loss: 0.3756 - val_accuracy: 0.8945 - val_loss: 0.3741\n",
      "Epoch 24/50\n",
      "\u001b[1m500/500\u001b[0m \u001b[32m━━━━━━━━━━━━━━━━━━━━\u001b[0m\u001b[37m\u001b[0m \u001b[1m1s\u001b[0m 2ms/step - accuracy: 0.9044 - loss: 0.3569 - val_accuracy: 0.9028 - val_loss: 0.3596\n",
      "Epoch 25/50\n",
      "\u001b[1m500/500\u001b[0m \u001b[32m━━━━━━━━━━━━━━━━━━━━\u001b[0m\u001b[37m\u001b[0m \u001b[1m1s\u001b[0m 1ms/step - accuracy: 0.9038 - loss: 0.3467 - val_accuracy: 0.9047 - val_loss: 0.3500\n",
      "Epoch 26/50\n",
      "\u001b[1m500/500\u001b[0m \u001b[32m━━━━━━━━━━━━━━━━━━━━\u001b[0m\u001b[37m\u001b[0m \u001b[1m1s\u001b[0m 1ms/step - accuracy: 0.9098 - loss: 0.3294 - val_accuracy: 0.9078 - val_loss: 0.3379\n",
      "Epoch 27/50\n",
      "\u001b[1m500/500\u001b[0m \u001b[32m━━━━━━━━━━━━━━━━━━━━\u001b[0m\u001b[37m\u001b[0m \u001b[1m1s\u001b[0m 1ms/step - accuracy: 0.9143 - loss: 0.3190 - val_accuracy: 0.9133 - val_loss: 0.3279\n",
      "Epoch 28/50\n",
      "\u001b[1m500/500\u001b[0m \u001b[32m━━━━━━━━━━━━━━━━━━━━\u001b[0m\u001b[37m\u001b[0m \u001b[1m1s\u001b[0m 1ms/step - accuracy: 0.9106 - loss: 0.3199 - val_accuracy: 0.9168 - val_loss: 0.3182\n",
      "Epoch 29/50\n",
      "\u001b[1m500/500\u001b[0m \u001b[32m━━━━━━━━━━━━━━━━━━━━\u001b[0m\u001b[37m\u001b[0m \u001b[1m1s\u001b[0m 1ms/step - accuracy: 0.9206 - loss: 0.2964 - val_accuracy: 0.9190 - val_loss: 0.3097\n",
      "Epoch 30/50\n",
      "\u001b[1m500/500\u001b[0m \u001b[32m━━━━━━━━━━━━━━━━━━━━\u001b[0m\u001b[37m\u001b[0m \u001b[1m1s\u001b[0m 2ms/step - accuracy: 0.9234 - loss: 0.2819 - val_accuracy: 0.9218 - val_loss: 0.2992\n",
      "Epoch 31/50\n",
      "\u001b[1m500/500\u001b[0m \u001b[32m━━━━━━━━━━━━━━━━━━━━\u001b[0m\u001b[37m\u001b[0m \u001b[1m1s\u001b[0m 2ms/step - accuracy: 0.9257 - loss: 0.2773 - val_accuracy: 0.9260 - val_loss: 0.2899\n",
      "Epoch 32/50\n",
      "\u001b[1m500/500\u001b[0m \u001b[32m━━━━━━━━━━━━━━━━━━━━\u001b[0m\u001b[37m\u001b[0m \u001b[1m1s\u001b[0m 2ms/step - accuracy: 0.9282 - loss: 0.2689 - val_accuracy: 0.9243 - val_loss: 0.2858\n",
      "Epoch 33/50\n",
      "\u001b[1m500/500\u001b[0m \u001b[32m━━━━━━━━━━━━━━━━━━━━\u001b[0m\u001b[37m\u001b[0m \u001b[1m1s\u001b[0m 2ms/step - accuracy: 0.9265 - loss: 0.2618 - val_accuracy: 0.9275 - val_loss: 0.2763\n",
      "Epoch 34/50\n",
      "\u001b[1m500/500\u001b[0m \u001b[32m━━━━━━━━━━━━━━━━━━━━\u001b[0m\u001b[37m\u001b[0m \u001b[1m1s\u001b[0m 1ms/step - accuracy: 0.9319 - loss: 0.2590 - val_accuracy: 0.9310 - val_loss: 0.2693\n",
      "Epoch 35/50\n",
      "\u001b[1m500/500\u001b[0m \u001b[32m━━━━━━━━━━━━━━━━━━━━\u001b[0m\u001b[37m\u001b[0m \u001b[1m1s\u001b[0m 1ms/step - accuracy: 0.9309 - loss: 0.2537 - val_accuracy: 0.9327 - val_loss: 0.2638\n",
      "Epoch 36/50\n",
      "\u001b[1m500/500\u001b[0m \u001b[32m━━━━━━━━━━━━━━━━━━━━\u001b[0m\u001b[37m\u001b[0m \u001b[1m1s\u001b[0m 1ms/step - accuracy: 0.9341 - loss: 0.2446 - val_accuracy: 0.9348 - val_loss: 0.2567\n",
      "Epoch 37/50\n",
      "\u001b[1m500/500\u001b[0m \u001b[32m━━━━━━━━━━━━━━━━━━━━\u001b[0m\u001b[37m\u001b[0m \u001b[1m1s\u001b[0m 1ms/step - accuracy: 0.9331 - loss: 0.2453 - val_accuracy: 0.9358 - val_loss: 0.2515\n",
      "Epoch 38/50\n",
      "\u001b[1m500/500\u001b[0m \u001b[32m━━━━━━━━━━━━━━━━━━━━\u001b[0m\u001b[37m\u001b[0m \u001b[1m1s\u001b[0m 1ms/step - accuracy: 0.9392 - loss: 0.2266 - val_accuracy: 0.9373 - val_loss: 0.2467\n",
      "Epoch 39/50\n",
      "\u001b[1m500/500\u001b[0m \u001b[32m━━━━━━━━━━━━━━━━━━━━\u001b[0m\u001b[37m\u001b[0m \u001b[1m1s\u001b[0m 1ms/step - accuracy: 0.9421 - loss: 0.2220 - val_accuracy: 0.9388 - val_loss: 0.2416\n",
      "Epoch 40/50\n",
      "\u001b[1m500/500\u001b[0m \u001b[32m━━━━━━━━━━━━━━━━━━━━\u001b[0m\u001b[37m\u001b[0m \u001b[1m1s\u001b[0m 2ms/step - accuracy: 0.9433 - loss: 0.2162 - val_accuracy: 0.9402 - val_loss: 0.2362\n",
      "Epoch 41/50\n",
      "\u001b[1m500/500\u001b[0m \u001b[32m━━━━━━━━━━━━━━━━━━━━\u001b[0m\u001b[37m\u001b[0m \u001b[1m1s\u001b[0m 1ms/step - accuracy: 0.9446 - loss: 0.2140 - val_accuracy: 0.9375 - val_loss: 0.2339\n",
      "Epoch 42/50\n",
      "\u001b[1m500/500\u001b[0m \u001b[32m━━━━━━━━━━━━━━━━━━━━\u001b[0m\u001b[37m\u001b[0m \u001b[1m1s\u001b[0m 1ms/step - accuracy: 0.9419 - loss: 0.2108 - val_accuracy: 0.9408 - val_loss: 0.2282\n",
      "Epoch 43/50\n",
      "\u001b[1m500/500\u001b[0m \u001b[32m━━━━━━━━━━━━━━━━━━━━\u001b[0m\u001b[37m\u001b[0m \u001b[1m1s\u001b[0m 1ms/step - accuracy: 0.9477 - loss: 0.2056 - val_accuracy: 0.9415 - val_loss: 0.2244\n",
      "Epoch 44/50\n",
      "\u001b[1m500/500\u001b[0m \u001b[32m━━━━━━━━━━━━━━━━━━━━\u001b[0m\u001b[37m\u001b[0m \u001b[1m1s\u001b[0m 1ms/step - accuracy: 0.9460 - loss: 0.2000 - val_accuracy: 0.9408 - val_loss: 0.2209\n",
      "Epoch 45/50\n",
      "\u001b[1m500/500\u001b[0m \u001b[32m━━━━━━━━━━━━━━━━━━━━\u001b[0m\u001b[37m\u001b[0m \u001b[1m1s\u001b[0m 1ms/step - accuracy: 0.9477 - loss: 0.1968 - val_accuracy: 0.9413 - val_loss: 0.2176\n",
      "Epoch 46/50\n",
      "\u001b[1m500/500\u001b[0m \u001b[32m━━━━━━━━━━━━━━━━━━━━\u001b[0m\u001b[37m\u001b[0m \u001b[1m1s\u001b[0m 1ms/step - accuracy: 0.9494 - loss: 0.1863 - val_accuracy: 0.9448 - val_loss: 0.2109\n",
      "Epoch 47/50\n",
      "\u001b[1m500/500\u001b[0m \u001b[32m━━━━━━━━━━━━━━━━━━━━\u001b[0m\u001b[37m\u001b[0m \u001b[1m1s\u001b[0m 1ms/step - accuracy: 0.9496 - loss: 0.1814 - val_accuracy: 0.9460 - val_loss: 0.2085\n",
      "Epoch 48/50\n",
      "\u001b[1m500/500\u001b[0m \u001b[32m━━━━━━━━━━━━━━━━━━━━\u001b[0m\u001b[37m\u001b[0m \u001b[1m1s\u001b[0m 2ms/step - accuracy: 0.9537 - loss: 0.1771 - val_accuracy: 0.9452 - val_loss: 0.2076\n",
      "Epoch 49/50\n",
      "\u001b[1m500/500\u001b[0m \u001b[32m━━━━━━━━━━━━━━━━━━━━\u001b[0m\u001b[37m\u001b[0m \u001b[1m1s\u001b[0m 1ms/step - accuracy: 0.9566 - loss: 0.1691 - val_accuracy: 0.9477 - val_loss: 0.2038\n",
      "Epoch 50/50\n",
      "\u001b[1m500/500\u001b[0m \u001b[32m━━━━━━━━━━━━━━━━━━━━\u001b[0m\u001b[37m\u001b[0m \u001b[1m1s\u001b[0m 1ms/step - accuracy: 0.9552 - loss: 0.1690 - val_accuracy: 0.9445 - val_loss: 0.1999\n",
      "\u001b[1m125/125\u001b[0m \u001b[32m━━━━━━━━━━━━━━━━━━━━\u001b[0m\u001b[37m\u001b[0m \u001b[1m0s\u001b[0m 1ms/step - accuracy: 0.9406 - loss: 0.2052\n",
      "Tuned Model Accuracy: 0.9445000290870667\n"
     ]
    }
   ],
   "source": [
    "from tensorflow.keras.optimizers import Adam\n",
    "\n",
    "def create_tuned_model(hidden_layers=2, neurons=128, learning_rate=0.001, activation='relu'):\n",
    "    model = Sequential()\n",
    "    model.add(Dense(neurons, input_dim=X_train.shape[1], activation=activation))\n",
    "    for _ in range(hidden_layers - 1):\n",
    "        model.add(Dense(26, activation='softmax'))\n",
    "\n",
    "        optimizer = Adam(learning_rate=learning_rate)\n",
    "        model.compile(loss='sparse_categorical_crossentropy', optimizer=optimizer, metrics=['accuracy'])\n",
    "\n",
    "        return model\n",
    "\n",
    "tuned_model = create_tuned_model(hidden_layers=3, neurons=128, learning_rate=0.0005, activation='tanh')\n",
    "history_tuned = tuned_model.fit(X_train, y_train, epochs=50, batch_size=32, validation_data=(X_test, y_test), verbose=1)\n",
    "\n",
    "tuned_loss, tuned_accuracy = tuned_model.evaluate(X_test, y_test, verbose=1)\n",
    "print(f\"Tuned Model Accuracy: {tuned_accuracy}\")"
   ]
  },
  {
   "cell_type": "markdown",
   "id": "1976c988-cc7f-4bec-aaff-4c33ec955e8d",
   "metadata": {},
   "source": [
    "In this, I built a neural network model using Keras to classify the alphabet dataset into 26 categories. The model was tuned by adjusting key hyperparameters such as the number of hidden layers neurons per layer, learning rate, and activation function. \n",
    "The model has an input layer followed by 3 hidden layers.\n",
    "Each layer uses 128 neurons with the tanh activation function except the output layer which uses softmax to output probabilities for 26 classes.\n",
    "The Adam optimizer with a custom learning rate of 0.0005 was used to minimize the loss.\n",
    "The loss function was set to spare_categorical_crossentropy as it is a multi-class classification problem.\n",
    "the model was trained on the dataset using '50 epochs' and a batch size of 32. It was validated on the test set during training to monitor performance.\n",
    "After training the model was evaluated on the test data yielding an accuracy of 94.45%. this indicates that the tuned model performs well in classifying the alphabet dataset showing significant improvement after hyperparameter tuning.\n"
   ]
  },
  {
   "cell_type": "markdown",
   "id": "e13a1cd8-ec64-4c69-90f3-0864a4ed7d8d",
   "metadata": {},
   "source": [
    "**Model Evaluation**"
   ]
  },
  {
   "cell_type": "code",
   "execution_count": 16,
   "id": "6d4cc591-ce6e-4c65-bc0b-d8e483b5fb25",
   "metadata": {},
   "outputs": [
    {
     "name": "stdout",
     "output_type": "stream",
     "text": [
      "\u001b[1m125/125\u001b[0m \u001b[32m━━━━━━━━━━━━━━━━━━━━\u001b[0m\u001b[37m\u001b[0m \u001b[1m0s\u001b[0m 1ms/step\n",
      "\u001b[1m125/125\u001b[0m \u001b[32m━━━━━━━━━━━━━━━━━━━━\u001b[0m\u001b[37m\u001b[0m \u001b[1m0s\u001b[0m 1ms/step\n",
      "Default Model: Accuracy = 0.8825, Precision = 0.8843406375216716, Recall = 0.881729681545186, F1-Score = 0.8816036226619209\n",
      "Tuned Model: Accuracy = 0.9445, Precision = 0.9441021186827336, Recall = 0.9434744513120107, F1-Score = 0.9435368382593943\n"
     ]
    }
   ],
   "source": [
    "from sklearn.metrics import accuracy_score, precision_score, recall_score, f1_score\n",
    "\n",
    "y_pred_default = np.argmax(default_model.predict(X_test), axis=-1)\n",
    "y_pred_tuned = np.argmax(tuned_model.predict(X_test), axis=-1)\n",
    "\n",
    "default_accuracy = accuracy_score(y_test, y_pred_default)\n",
    "default_precision = precision_score(y_test, y_pred_default, average='macro')\n",
    "default_recall= recall_score(y_test, y_pred_default, average='macro')\n",
    "default_f1 = f1_score(y_test, y_pred_default, average='macro')\n",
    "\n",
    "tuned_accuracy = accuracy_score(y_test, y_pred_tuned)\n",
    "tuned_precision = precision_score(y_test, y_pred_tuned, average='macro')\n",
    "tuned_recall = recall_score(y_test, y_pred_tuned, average='macro')\n",
    "tuned_f1 = f1_score(y_test, y_pred_tuned, average='macro')\n",
    "\n",
    "print(f\"Default Model: Accuracy = {default_accuracy}, Precision = {default_precision}, Recall = {default_recall}, F1-Score = {default_f1}\")\n",
    "print(f\"Tuned Model: Accuracy = {tuned_accuracy}, Precision = {tuned_precision}, Recall = {tuned_recall}, F1-Score = {tuned_f1}\")"
   ]
  },
  {
   "cell_type": "markdown",
   "id": "37dce5d4-98cb-4a24-8d3d-da8b86a6f8a0",
   "metadata": {},
   "source": [
    "In this, I have compared the performance of the default model and the tuned model by calculating 4 key metrics: accuracy, precision, recall, and F1-Score. The predictions for both models are made using the predict() function and the highest probability for each class is selected using np.argmax() to obtain the predicted labels.\n",
    "The accuracy_score(), precision_score(), recall_score(), and F1-Score() functions from sklearn.metrics are used to calculate these metrics for both models. The average='macro' argument checks that  I compute these metrics for each class separately and then average treating all classes equally."
   ]
  },
  {
   "cell_type": "markdown",
   "id": "223a0a5b-fcf7-4b5a-a284-7348e70a509f",
   "metadata": {},
   "source": [
    "The tuned_model significantly outperforms the default_model in terms of accuracy. The increase from 88.25% to 94.45% says that tuning hyperparameters led to a better ability to classify the alphabet categories correctly.\n",
    "Precision refers to the ratio of true positives to the sum of true and false positives. The tuned model precision of 0.9441 shows it is better at minimizing false positives than the default model precision of 0.8843. This improvement says that the tuned model is more reliable when it predicts a certain class with fewer incorrect predictions.\n",
    "\n",
    "Recall measures how well the model identifies all relevant instances. The tuned model performs better with a recall of 0.9435 compared to 0.8817 for the default model. This says the tuned model is better at correctly identifying true positives catching more of the actual alphabet classes in the dataset.\n",
    "\n",
    "F1-Score is the harmonic mean of precision and recall. The tuned model's F1-Score of 0.9435 indicated a more balanced performance between precision and recall than the default model's F1-Score of 0.8816. \n",
    "This says the tuned model handles false positives and negatives more effectively than the default model.\n",
    "\n",
    "The performance of the tuned model shows a clear improvement across all key metrics. In Accuracy:+6.2%(from 0.8825 to 0.9445)\n",
    "In Precision: +5.98%(from 0.8843 to 0.9441)\n",
    "In Recall: +6.18%(from 0.8817 to 0.9435)\n",
    "In F1-Score: +6.19%(from 0.8816 to 0.9435)\n",
    "These improvements say that tuning the hyperparameters has led to a better model. The tuned model is more robust with improved capability to correctly classify both true positives and avoid false positives making it a superior model for this classification task.\n",
    "\n",
    "The tuning process by modifying the number of hidden layers, neurons per layer, activation function, and learning rate, has enhanced the model's performance. It allowed the model to capture better patterns in the data and reduced overfitting.\n",
    "\n",
    "The increase in recall and precision for the tuned model suggests that it generalizes better to unseen data avoiding both false positives and negatives more effectively.\n",
    "The F1-Score which balances precision and recall indicates that the tuned model's improvements are not one-sided it performs well in both aspects making it more reliable overall.\n",
    "\n",
    "Finally, the tuned model shows significant improvement over the default model for all performance metrics. These enhancements make it a more effective model for the classification task."
   ]
  }
 ],
 "metadata": {
  "kernelspec": {
   "display_name": "Python 3 (ipykernel)",
   "language": "python",
   "name": "python3"
  },
  "language_info": {
   "codemirror_mode": {
    "name": "ipython",
    "version": 3
   },
   "file_extension": ".py",
   "mimetype": "text/x-python",
   "name": "python",
   "nbconvert_exporter": "python",
   "pygments_lexer": "ipython3",
   "version": "3.11.7"
  }
 },
 "nbformat": 4,
 "nbformat_minor": 5
}
